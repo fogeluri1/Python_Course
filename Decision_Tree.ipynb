{
 "cells": [
  {
   "cell_type": "markdown",
   "metadata": {},
   "source": [
    "ID #1: 208937334"
   ]
  },
  {
   "cell_type": "markdown",
   "metadata": {
    "nbgrader": {
     "grade": false,
     "grade_id": "cell-6bd0516e7cb654f5",
     "locked": true,
     "schema_version": 1,
     "solution": false
    }
   },
   "source": [
    "# Exercise 2: Decision Trees\n",
    "\n",
    "In this assignment you will implement a Decision Tree algorithm as learned in class.\n",
    "\n",
    "## Read the following instructions carefully:\n",
    "\n",
    "1. This jupyter notebook contains all the step by step instructions needed for this exercise.\n",
    "1. Submission includes this notebook only with the exercise number and your ID as the filename. For example: `hw2_123456789_987654321.ipynb` if you submitted in pairs and `hw2_123456789.ipynb` if you submitted the exercise alone.\n",
    "1. Write **efficient vectorized** code whenever possible. Some calculations in this exercise take several minutes when implemented efficiently, and might take much longer otherwise. Unnecessary loops will result in point deduction.\n",
    "1. You are responsible for the correctness of your code and should add as many tests as you see fit. Tests will not be graded nor checked.\n",
    "1. Write your functions in this notebook only. **Do not create Python modules and import them**.\n",
    "1. You are allowed to use functions and methods from the [Python Standard Library](https://docs.python.org/3/library/) and [numpy](https://www.numpy.org/devdocs/reference/) only. **Do not import anything else.**\n",
    "\n",
    "## In this exercise you will perform the following:\n",
    "1. Practice OOP in python.\n",
    "2. Implement two impurity measures: Gini and Entropy.\n",
    "3. Construct a decision tree algorithm.\n",
    "4. Prune the tree to achieve better results.\n",
    "5. Visualize your results."
   ]
  },
  {
   "cell_type": "markdown",
   "metadata": {},
   "source": [
    "# I have read and understood the instructions: *** 208937334 ***"
   ]
  },
  {
   "cell_type": "code",
   "execution_count": 1,
   "metadata": {
    "nbgrader": {
     "grade": false,
     "grade_id": "cell-ed9fe7b1026e33cb",
     "locked": true,
     "schema_version": 1,
     "solution": false
    }
   },
   "outputs": [],
   "source": [
    "import numpy as np\n",
    "import pandas as pd\n",
    "import matplotlib.pyplot as plt\n",
    "\n",
    "# make matplotlib figures appear inline in the notebook\n",
    "%matplotlib inline\n",
    "plt.rcParams['figure.figsize'] = (10.0, 8.0) # set default size of plots\n",
    "plt.rcParams['image.interpolation'] = 'nearest'\n",
    "plt.rcParams['image.cmap'] = 'gray'\n",
    "\n",
    "# Ignore warnings\n",
    "import warnings\n",
    "warnings.filterwarnings('ignore')"
   ]
  },
  {
   "cell_type": "markdown",
   "metadata": {
    "nbgrader": {
     "grade": false,
     "grade_id": "cell-c6ac605270c2b091",
     "locked": true,
     "schema_version": 1,
     "solution": false
    }
   },
   "source": [
    "## Warmup - OOP in python\n",
    "\n",
    "Our desicion tree will be implemented using a dedicated python class. Python classes are very similar to classes in Java.\n",
    "\n",
    "\n",
    "You can use the following [site](https://jeffknupp.com/blog/2014/06/18/improve-your-python-python-classes-and-object-oriented-programming/) to learn about classes in python."
   ]
  },
  {
   "cell_type": "code",
   "execution_count": 2,
   "metadata": {},
   "outputs": [],
   "source": [
    "class Node(object):\n",
    "    def __init__(self, data):\n",
    "        self.data = data\n",
    "        self.children = []\n",
    "\n",
    "    def add_child(self, node):\n",
    "        self.children.append(node)"
   ]
  },
  {
   "cell_type": "code",
   "execution_count": 3,
   "metadata": {},
   "outputs": [
    {
     "data": {
      "text/plain": [
       "[<__main__.Node at 0x19bab04deb0>, <__main__.Node at 0x19bae0a5970>]"
      ]
     },
     "execution_count": 3,
     "metadata": {},
     "output_type": "execute_result"
    }
   ],
   "source": [
    "n = Node(5)\n",
    "p = Node(6)\n",
    "q = Node(7)\n",
    "n.add_child(p)\n",
    "n.add_child(q)\n",
    "n.children"
   ]
  },
  {
   "cell_type": "markdown",
   "metadata": {
    "nbgrader": {
     "grade": false,
     "grade_id": "cell-2f1ceb251c649b62",
     "locked": true,
     "schema_version": 1,
     "solution": false
    }
   },
   "source": [
    "## Data preprocessing\n",
    "\n",
    "For the following exercise, we will use a dataset containing mushroom data `agaricus-lepiota.csv`. \n",
    "\n",
    "This data set includes descriptions of hypothetical samples corresponding to 23 species of gilled mushrooms in the Agaricus and Lepiota Family. Each species is identified as definitely edible, definitely poisonous, or of unknown edibility and not recommended. This latter class was combined with the poisonous\n",
    "one (=there are only two classes **edible** and **poisonous**). \n",
    "    \n",
    "The dataset contains 8124 observations with 22 features:\n",
    "1. cap-shape: bell=b,conical=c,convex=x,flat=f,knobbed=k,sunken=s\n",
    "2. cap-surface: fibrous=f,grooves=g,scaly=y,smooth=s\n",
    "3. cap-color: brown=n,buff=b,cinnamon=c,gray=g,green=r,pink=p,purple=u,red=e,white=w,yellow=y\n",
    "4. bruises: bruises=t,no=f\n",
    "5. odor: almond=a,anise=l,creosote=c,fishy=y,foul=f, musty=m,none=n,pungent=p,spicy=s\n",
    "6. gill-attachment: attached=a,descending=d,free=f,notched=n\n",
    "7. gill-spacing: close=c,crowded=w,distant=d\n",
    "8. gill-size: broad=b,narrow=n\n",
    "9. gill-color: black=k,brown=n,buff=b,chocolate=h,gray=g,green=r,orange=o,pink=p,purple=u,red=e,white=w,yellow=y\n",
    "10. stalk-shape: enlarging=e,tapering=t\n",
    "11. stalk-root: bulbous=b,club=c,cup=u,equal=e,rhizomorphs=z,rooted=r\n",
    "12. stalk-surface-above-ring: fibrous=f,scaly=y,silky=k,smooth=s\n",
    "13. stalk-surface-below-ring: fibrous=f,scaly=y,silky=k,smooth=s\n",
    "14. stalk-color-above-ring: brown=n,buff=b,cinnamon=c,gray=g,orange=o,pink=p,red=e,white=w,yellow=y\n",
    "15. stalk-color-below-ring: brown=n,buff=b,cinnamon=c,gray=g,orange=o,pink=p,red=e,white=w,yellow=y\n",
    "16. veil-type: partial=p,universal=u\n",
    "17. veil-color: brown=n,orange=o,white=w,yellow=y\n",
    "18. ring-number: none=n,one=o,two=t\n",
    "19. ring-type: cobwebby=c,evanescent=e,flaring=f,large=l,none=n,pendant=p,sheathing=s,zone=z\n",
    "20. spore-print-color: black=k,brown=n,buff=b,chocolate=h,green=r,orange=o,purple=u,white=w,yellow=y\n",
    "21. population: abundant=a,clustered=c,numerous=n,scattered=s,several=v,solitary=y\n",
    "22. habitat: grasses=g,leaves=l,meadows=m,paths=p,urban=u,waste=w,woods=d\n",
    "\n",
    "First, we will read and explore the data using pandas and the `.read_csv` method. Pandas is an open source library providing high-performance, easy-to-use data structures and data analysis tools for the Python programming language."
   ]
  },
  {
   "cell_type": "code",
   "execution_count": 4,
   "metadata": {
    "nbgrader": {
     "grade": false,
     "grade_id": "cell-d79cb4542926ad3f",
     "locked": true,
     "schema_version": 1,
     "solution": false
    }
   },
   "outputs": [],
   "source": [
    "# load dataset\n",
    "data = pd.read_csv('agaricus-lepiota.csv')"
   ]
  },
  {
   "cell_type": "code",
   "execution_count": 5,
   "metadata": {},
   "outputs": [
    {
     "data": {
      "text/html": [
       "<div>\n",
       "<style scoped>\n",
       "    .dataframe tbody tr th:only-of-type {\n",
       "        vertical-align: middle;\n",
       "    }\n",
       "\n",
       "    .dataframe tbody tr th {\n",
       "        vertical-align: top;\n",
       "    }\n",
       "\n",
       "    .dataframe thead th {\n",
       "        text-align: right;\n",
       "    }\n",
       "</style>\n",
       "<table border=\"1\" class=\"dataframe\">\n",
       "  <thead>\n",
       "    <tr style=\"text-align: right;\">\n",
       "      <th></th>\n",
       "      <th>cap-shape</th>\n",
       "      <th>cap-surface</th>\n",
       "      <th>cap-color</th>\n",
       "      <th>bruises</th>\n",
       "      <th>odor</th>\n",
       "      <th>gill-attachment</th>\n",
       "      <th>gill-spacing</th>\n",
       "      <th>gill-size</th>\n",
       "      <th>gill-color</th>\n",
       "      <th>stalk-shape</th>\n",
       "      <th>...</th>\n",
       "      <th>stalk-color-above-ring</th>\n",
       "      <th>stalk-color-below-ring</th>\n",
       "      <th>veil-type</th>\n",
       "      <th>veil-color</th>\n",
       "      <th>ring-number</th>\n",
       "      <th>ring-type</th>\n",
       "      <th>spore-print-color</th>\n",
       "      <th>population</th>\n",
       "      <th>habitat</th>\n",
       "      <th>class</th>\n",
       "    </tr>\n",
       "  </thead>\n",
       "  <tbody>\n",
       "    <tr>\n",
       "      <th>0</th>\n",
       "      <td>x</td>\n",
       "      <td>s</td>\n",
       "      <td>n</td>\n",
       "      <td>t</td>\n",
       "      <td>p</td>\n",
       "      <td>f</td>\n",
       "      <td>c</td>\n",
       "      <td>n</td>\n",
       "      <td>k</td>\n",
       "      <td>e</td>\n",
       "      <td>...</td>\n",
       "      <td>w</td>\n",
       "      <td>w</td>\n",
       "      <td>p</td>\n",
       "      <td>w</td>\n",
       "      <td>o</td>\n",
       "      <td>p</td>\n",
       "      <td>k</td>\n",
       "      <td>s</td>\n",
       "      <td>u</td>\n",
       "      <td>p</td>\n",
       "    </tr>\n",
       "    <tr>\n",
       "      <th>1</th>\n",
       "      <td>x</td>\n",
       "      <td>s</td>\n",
       "      <td>y</td>\n",
       "      <td>t</td>\n",
       "      <td>a</td>\n",
       "      <td>f</td>\n",
       "      <td>c</td>\n",
       "      <td>b</td>\n",
       "      <td>k</td>\n",
       "      <td>e</td>\n",
       "      <td>...</td>\n",
       "      <td>w</td>\n",
       "      <td>w</td>\n",
       "      <td>p</td>\n",
       "      <td>w</td>\n",
       "      <td>o</td>\n",
       "      <td>p</td>\n",
       "      <td>n</td>\n",
       "      <td>n</td>\n",
       "      <td>g</td>\n",
       "      <td>e</td>\n",
       "    </tr>\n",
       "    <tr>\n",
       "      <th>2</th>\n",
       "      <td>b</td>\n",
       "      <td>s</td>\n",
       "      <td>w</td>\n",
       "      <td>t</td>\n",
       "      <td>l</td>\n",
       "      <td>f</td>\n",
       "      <td>c</td>\n",
       "      <td>b</td>\n",
       "      <td>n</td>\n",
       "      <td>e</td>\n",
       "      <td>...</td>\n",
       "      <td>w</td>\n",
       "      <td>w</td>\n",
       "      <td>p</td>\n",
       "      <td>w</td>\n",
       "      <td>o</td>\n",
       "      <td>p</td>\n",
       "      <td>n</td>\n",
       "      <td>n</td>\n",
       "      <td>m</td>\n",
       "      <td>e</td>\n",
       "    </tr>\n",
       "    <tr>\n",
       "      <th>3</th>\n",
       "      <td>x</td>\n",
       "      <td>y</td>\n",
       "      <td>w</td>\n",
       "      <td>t</td>\n",
       "      <td>p</td>\n",
       "      <td>f</td>\n",
       "      <td>c</td>\n",
       "      <td>n</td>\n",
       "      <td>n</td>\n",
       "      <td>e</td>\n",
       "      <td>...</td>\n",
       "      <td>w</td>\n",
       "      <td>w</td>\n",
       "      <td>p</td>\n",
       "      <td>w</td>\n",
       "      <td>o</td>\n",
       "      <td>p</td>\n",
       "      <td>k</td>\n",
       "      <td>s</td>\n",
       "      <td>u</td>\n",
       "      <td>p</td>\n",
       "    </tr>\n",
       "    <tr>\n",
       "      <th>4</th>\n",
       "      <td>x</td>\n",
       "      <td>s</td>\n",
       "      <td>g</td>\n",
       "      <td>f</td>\n",
       "      <td>n</td>\n",
       "      <td>f</td>\n",
       "      <td>w</td>\n",
       "      <td>b</td>\n",
       "      <td>k</td>\n",
       "      <td>t</td>\n",
       "      <td>...</td>\n",
       "      <td>w</td>\n",
       "      <td>w</td>\n",
       "      <td>p</td>\n",
       "      <td>w</td>\n",
       "      <td>o</td>\n",
       "      <td>e</td>\n",
       "      <td>n</td>\n",
       "      <td>a</td>\n",
       "      <td>g</td>\n",
       "      <td>e</td>\n",
       "    </tr>\n",
       "  </tbody>\n",
       "</table>\n",
       "<p>5 rows × 22 columns</p>\n",
       "</div>"
      ],
      "text/plain": [
       "  cap-shape cap-surface cap-color bruises odor gill-attachment gill-spacing  \\\n",
       "0         x           s         n       t    p               f            c   \n",
       "1         x           s         y       t    a               f            c   \n",
       "2         b           s         w       t    l               f            c   \n",
       "3         x           y         w       t    p               f            c   \n",
       "4         x           s         g       f    n               f            w   \n",
       "\n",
       "  gill-size gill-color stalk-shape  ... stalk-color-above-ring  \\\n",
       "0         n          k           e  ...                      w   \n",
       "1         b          k           e  ...                      w   \n",
       "2         b          n           e  ...                      w   \n",
       "3         n          n           e  ...                      w   \n",
       "4         b          k           t  ...                      w   \n",
       "\n",
       "  stalk-color-below-ring veil-type veil-color ring-number ring-type  \\\n",
       "0                      w         p          w           o         p   \n",
       "1                      w         p          w           o         p   \n",
       "2                      w         p          w           o         p   \n",
       "3                      w         p          w           o         p   \n",
       "4                      w         p          w           o         e   \n",
       "\n",
       "  spore-print-color population habitat class  \n",
       "0                 k          s       u     p  \n",
       "1                 n          n       g     e  \n",
       "2                 n          n       m     e  \n",
       "3                 k          s       u     p  \n",
       "4                 n          a       g     e  \n",
       "\n",
       "[5 rows x 22 columns]"
      ]
     },
     "execution_count": 5,
     "metadata": {},
     "output_type": "execute_result"
    }
   ],
   "source": [
    "data.head()"
   ]
  },
  {
   "cell_type": "markdown",
   "metadata": {},
   "source": [
    "One of the advantages of the Decision Tree algorithm is that almost no preprocessing is required. However, finding missing values is always required."
   ]
  },
  {
   "cell_type": "code",
   "execution_count": 6,
   "metadata": {},
   "outputs": [
    {
     "data": {
      "text/plain": [
       "False"
      ]
     },
     "execution_count": 6,
     "metadata": {},
     "output_type": "execute_result"
    }
   ],
   "source": [
    "data.isna().values.any()"
   ]
  },
  {
   "cell_type": "markdown",
   "metadata": {},
   "source": [
    "We will split the dataset to `Training` and `Testing` datasets."
   ]
  },
  {
   "cell_type": "code",
   "execution_count": 7,
   "metadata": {},
   "outputs": [
    {
     "name": "stdout",
     "output_type": "stream",
     "text": [
      "Training dataset shape:  (6093, 22)\n",
      "Testing dataset shape:  (2031, 22)\n"
     ]
    }
   ],
   "source": [
    "from sklearn.model_selection import train_test_split\n",
    "# Making sure the last column will hold the labels\n",
    "X, y = data.drop('class', axis=1), data['class']\n",
    "X = np.column_stack([X,y])\n",
    "# split dataset using random_state to get the same split each time\n",
    "X_train, X_test = train_test_split(X, random_state=99)\n",
    "\n",
    "print(\"Training dataset shape: \", X_train.shape)\n",
    "print(\"Testing dataset shape: \", X_test.shape)"
   ]
  },
  {
   "cell_type": "markdown",
   "metadata": {
    "nbgrader": {
     "grade": false,
     "grade_id": "cell-fd7b0191f3f1e897",
     "locked": true,
     "schema_version": 1,
     "solution": false
    }
   },
   "source": [
    "## Impurity Measures\n",
    "\n",
    "Impurity is a measure of how often a randomly chosen element from the set would be incorrectly labeled if it was randomly labeled according to the distribution of labels in the subset. Implement the functions `calc_gini` and `calc_entropy`. You are encouraged to test your implementation (10 points)."
   ]
  },
  {
   "cell_type": "code",
   "execution_count": 8,
   "metadata": {},
   "outputs": [],
   "source": [
    "def calc_gini(data):\n",
    "    \"\"\"\n",
    "    Calculate gini impurity measure of a dataset.\n",
    " \n",
    "    Input:\n",
    "    - data: any dataset where the last column holds the labels.\n",
    " \n",
    "    Returns the gini impurity.    \n",
    "    \"\"\"\n",
    "    target = data[:,-1]\n",
    "    temp = []\n",
    "    \n",
    "    for i in np.unique(target):\n",
    "        class_i = ((target == i).sum() / len(target)) **2\n",
    "        temp.append(class_i)\n",
    "    \n",
    "    #gini\n",
    "    gini = 1 - sum(temp)\n",
    "    \n",
    "    return gini"
   ]
  },
  {
   "cell_type": "code",
   "execution_count": 9,
   "metadata": {},
   "outputs": [],
   "source": [
    "def calc_entropy(data):\n",
    "    \"\"\"\n",
    "    Calculate the entropy of a dataset.\n",
    "\n",
    "    Input:\n",
    "    - data: any dataset where the last column holds the labels.\n",
    "\n",
    "    Returns the entropy of the dataset.    \n",
    "    \"\"\"\n",
    "    target = data[:,-1]\n",
    "    temp = []\n",
    "    \n",
    "    for i in np.unique(target):\n",
    "        prob_class_i = ((target == i).sum() / len(target))\n",
    "        temp.append(prob_class_i * np.log2(prob_class_i))\n",
    "    \n",
    "    entropy = - sum(temp)\n",
    "    \n",
    "    return entropy"
   ]
  },
  {
   "cell_type": "code",
   "execution_count": 10,
   "metadata": {
    "scrolled": true
   },
   "outputs": [
    {
     "data": {
      "text/plain": [
       "(0.4995636322379775, 0.9993703627906085)"
      ]
     },
     "execution_count": 10,
     "metadata": {},
     "output_type": "execute_result"
    }
   ],
   "source": [
    "##### Your Tests Here #####\n",
    "calc_gini(X), calc_entropy(X)"
   ]
  },
  {
   "cell_type": "markdown",
   "metadata": {},
   "source": [
    "## Goodness of Split\n",
    "\n",
    "Given a feature the Goodnees of Split measures the reduction in the impurity if we split the data according to the feature.\n",
    "$$\n",
    "\\Delta\\varphi(S, A) = \\varphi(S) - \\sum_{v\\in Values(A)} \\frac{|S_v|}{|S|}\\varphi(S_v)\n",
    "$$\n",
    "\n",
    "NOTE: you can add more parameters to the function and you can also add more returning variables (The given parameters and the given returning variable should not be touch). (10 Points)"
   ]
  },
  {
   "cell_type": "code",
   "execution_count": 11,
   "metadata": {},
   "outputs": [],
   "source": [
    "def goodness_of_split(data, feature, impurity_func,gain_ratio = False):\n",
    "    \"\"\"\n",
    "    Calculate the goodness of split of a dataset given a feature and impurity function.\n",
    "\n",
    "    Input:\n",
    "    - data: any dataset where the last column holds the labels.\n",
    "    - feature: the feature index.\n",
    "    - impurity func: a function that calculates the impurity.\n",
    "\n",
    "    Returns the goodness of split.  \n",
    "    \"\"\"\n",
    "    # parent impurity\n",
    "    parent_imp = impurity_func(data)\n",
    "    \n",
    "    # unique values in each features\n",
    "    features_values = set(data[:,feature])\n",
    "    \n",
    "    weighted_imps = []\n",
    "    \n",
    "    num_items_bfre_split = len(data)\n",
    "    \n",
    "    for val in features_values:\n",
    "        data_val = data[data[:,feature] == val]  \n",
    "        imp = impurity_func(data_val)\n",
    "        insnces_in_split = len(data_val)\n",
    "        \n",
    "        weighted_imps.append((insnces_in_split/num_items_bfre_split)*imp)\n",
    "        \n",
    "    goodness = parent_imp - sum(weighted_imps)\n",
    "    \n",
    "    if gain_ratio == True and impurity_func == calc_entropy:\n",
    "        feat = data[:,feature]\n",
    "        temp = []\n",
    "\n",
    "        for i in np.unique(feat):\n",
    "            prob_class_i = ((feat == i).sum() / len(feat))\n",
    "            temp.append(prob_class_i * np.log2(prob_class_i))\n",
    "\n",
    "        inner_entropy = - sum(temp)\n",
    "        return goodness/inner_entropy\n",
    "        \n",
    "    else:\n",
    "        return goodness    \n",
    "    \n",
    "        \n",
    "        "
   ]
  },
  {
   "cell_type": "markdown",
   "metadata": {},
   "source": [
    "## Building a Decision Tree\n",
    "\n",
    "Use a Python class to construct the decision tree. Your class should support the following functionality:\n",
    "\n",
    "1. Initiating a node for a decision tree. You will need to use several class methods and class attributes and you are free to use them as you see fit. We recommend that every node will hold the feature and value used for the split and its children.\n",
    "2. Your code should support both Gini and Entropy as impurity measures. \n",
    "3. The provided data includes categorical data. In this exercise, when splitting a node create the number of children needed according to the attribute unique values.\n",
    "\n",
    "Complete the class `DecisionNode`. The structure of this class is entirely up to you. \n",
    "\n",
    "Complete the function `build_tree`. This function should get the training dataset and the impurity as inputs, initiate a root for the decision tree and construct the tree according to the procedure you learned in class. (30 points)"
   ]
  },
  {
   "cell_type": "code",
   "execution_count": 12,
   "metadata": {},
   "outputs": [],
   "source": [
    "class DecisionNode:\n",
    "    \"\"\"\n",
    "    This class will hold everything you require to construct a decision tree.\n",
    "    The structure of this class is up to you. However, you need to support basic \n",
    "    functionality as described above. It is highly recommended that you \n",
    "    first read and understand the entire exercise before diving into this class.\n",
    "    \"\"\"\n",
    "    def __init__(self, feature, value, data):\n",
    "        self.feature = feature # column index of criteria being tested\n",
    "        self.feature_led_to_split = -1 # the feature led to split\n",
    "        self.value = value # the value of the feature led to split\n",
    "        self.data = data # the instances in this node\n",
    "        self.pred = None # prediction of node \n",
    "        self.counter = None \n",
    "        self.state = \"Node\" # node/leaf\n",
    "        self.children = []\n",
    "        \n",
    "    def add_child(self, node):\n",
    "        self.children.append(node)\n",
    "        \n",
    "        \n",
    "    def get_number_of_instances(self):\n",
    "        if self.data.ndim == 2:\n",
    "            return self.data.shape[0]\n",
    "        \n",
    "        if self.data.ndim == 1:\n",
    "            return 1\n",
    "        \n",
    "    def is_leaf(self):\n",
    "        if len(np.unique(self.data[:,-1])) == 1:\n",
    "            self.state = \"Leaf\"\n",
    "            return True\n",
    "        else:\n",
    "            return False\n",
    "        \n",
    "    def prediction(self):\n",
    "        unique_values, counts = np.unique(self.data[:,-1], return_counts=True)\n",
    "        most_common_value = unique_values[np.argmax(counts)]\n",
    "        self.pred = most_common_value\n",
    "        self.counter = {k: v for k, v in zip(unique_values, counts)}\n",
    "        \n",
    "    "
   ]
  },
  {
   "cell_type": "code",
   "execution_count": 13,
   "metadata": {},
   "outputs": [],
   "source": [
    "def build_tree(data, impurity, min_samples_split=1, max_depth=1000, gain_ratio=False):\n",
    "    \"\"\"\n",
    "    Build a tree using the given impurity measure and training dataset. \n",
    "    You are required to fully grow the tree until all leaves are pure. \n",
    "\n",
    "    Input:\n",
    "    - data: the training dataset.\n",
    "    - impurity: the chosen impurity measure. Notice that you can send a function\n",
    "                as an argument in python.\n",
    "    - min_samples_split: the minimum number of samples required to split an internal node\n",
    "    - max_depth: the allowable depth of the tree\n",
    "\n",
    "    Output: the root node of the tree.\n",
    "    \"\"\"\n",
    "    # create \n",
    "    root = DecisionNode('','ROOT',data)\n",
    "    root.prediction()\n",
    "    \n",
    "    # check if node should be leaf\n",
    "    if root.is_leaf() or max_depth==0 or root.get_number_of_instances() <= min_samples_split:\n",
    "        root.state = 'Leaf'\n",
    "        return root\n",
    "    \n",
    "\n",
    "    # calc info gain for each feature\n",
    "    info_gains = np.array([goodness_of_split(data,i,impurity,gain_ratio) for i in range(data.shape[1]-1)])\n",
    "\n",
    "    # select the feature with the highest IG\n",
    "    best_feature = np.argmax(info_gains)\n",
    "\n",
    "    # get best feature's values\n",
    "    features_values = set(data[:,best_feature])\n",
    "\n",
    "    # update feature\n",
    "    root.feature = best_feature\n",
    "\n",
    "    # splitting based on the values\n",
    "    for val in features_values:\n",
    "        # subset of the data\n",
    "        data_val = data[data[:,best_feature] == val] \n",
    "        \n",
    "        # creating the child - \"new tree\"\n",
    "        child_node = build_tree(data_val, impurity, min_samples_split, max_depth-1)\n",
    "        \n",
    "        # assign values\n",
    "        child_node.value = val  \n",
    "        child_node.feature_led_to_split = best_feature\n",
    "        root.add_child(child_node)\n",
    "    \n",
    "        \n",
    "    return root\n"
   ]
  },
  {
   "cell_type": "code",
   "execution_count": 14,
   "metadata": {},
   "outputs": [],
   "source": [
    "# # python supports passing a function as an argument to another function.\n",
    "tree_gini = build_tree(data=X_train, impurity=calc_gini) # gini and goodness of split\n",
    "tree_entropy = build_tree(data=X_train, impurity=calc_entropy) # entropy and goodness of split\n",
    "tree_entropy_gain_ratio = build_tree(data=X_train, impurity=calc_entropy, gain_ratio=True) # entropy and gain ratio"
   ]
  },
  {
   "cell_type": "markdown",
   "metadata": {},
   "source": [
    "## Tree evaluation\n",
    "\n",
    "Complete the functions `predict` and `calc_accuracy`. (10 points)"
   ]
  },
  {
   "cell_type": "code",
   "execution_count": 15,
   "metadata": {},
   "outputs": [],
   "source": [
    "def predict(node, instance):\n",
    "    \"\"\"\n",
    "    Predict a given instance using the decision tree\n",
    " \n",
    "    Input:\n",
    "    - root: the root of the decision tree.\n",
    "    - instance: an row vector from the dataset. Note that the last element \n",
    "                of this vector is the label of the instance.\n",
    " \n",
    "    Output: the prediction of the instance.\n",
    "    \"\"\"\n",
    "    \n",
    "    # stop critiria if we found leaf return its prediction\n",
    "    if node.state == 'Leaf':\n",
    "        return(node.pred)\n",
    "    \n",
    "    # found the child with the match value and predict on him until finding leaf\n",
    "    for child in node.children:\n",
    "        if instance[node.feature] == child.value:\n",
    "            return predict(child,instance)\n",
    "    \n",
    "    # in case of nan or unseen value\n",
    "    return node.pred"
   ]
  },
  {
   "cell_type": "code",
   "execution_count": 16,
   "metadata": {},
   "outputs": [],
   "source": [
    "def calc_accuracy(node, dataset):\n",
    "    \"\"\"\n",
    "    Predict a given dataset using the decision tree\n",
    " \n",
    "    Input:\n",
    "    - node: a node in the decision tree.\n",
    "    - dataset: the dataset on which the accuracy is evaluated\n",
    " \n",
    "    Output: the accuracy of the decision tree on the given dataset (%).\n",
    "    \"\"\"\n",
    "    true_predictions = 0\n",
    "    for instance in dataset:\n",
    "        if predict(node,instance) == instance[-1]:\n",
    "            true_predictions += 1\n",
    "            \n",
    "    accuracy = true_predictions/ dataset.shape[0]\n",
    "    \n",
    "    return accuracy "
   ]
  },
  {
   "cell_type": "markdown",
   "metadata": {},
   "source": [
    "After building the three trees using the training set, you should calculate the accuracy on the test set. For each tree print the training and test accuracy. Select the tree that gave you the best test accuracy. For the rest of the exercise, use that tree (when you asked to build another tree use the same impurity function and same gain_ratio flag). "
   ]
  },
  {
   "cell_type": "code",
   "execution_count": 17,
   "metadata": {},
   "outputs": [
    {
     "data": {
      "text/html": [
       "<div>\n",
       "<style scoped>\n",
       "    .dataframe tbody tr th:only-of-type {\n",
       "        vertical-align: middle;\n",
       "    }\n",
       "\n",
       "    .dataframe tbody tr th {\n",
       "        vertical-align: top;\n",
       "    }\n",
       "\n",
       "    .dataframe thead th {\n",
       "        text-align: right;\n",
       "    }\n",
       "</style>\n",
       "<table border=\"1\" class=\"dataframe\">\n",
       "  <thead>\n",
       "    <tr style=\"text-align: right;\">\n",
       "      <th></th>\n",
       "      <th>Gini</th>\n",
       "      <th>Entropy</th>\n",
       "      <th>Entropy Gain Ratio</th>\n",
       "    </tr>\n",
       "  </thead>\n",
       "  <tbody>\n",
       "    <tr>\n",
       "      <th>Train</th>\n",
       "      <td>0.993763</td>\n",
       "      <td>0.994748</td>\n",
       "      <td>0.994748</td>\n",
       "    </tr>\n",
       "    <tr>\n",
       "      <th>Test</th>\n",
       "      <td>0.774495</td>\n",
       "      <td>0.772526</td>\n",
       "      <td>0.772526</td>\n",
       "    </tr>\n",
       "  </tbody>\n",
       "</table>\n",
       "</div>"
      ],
      "text/plain": [
       "           Gini   Entropy  Entropy Gain Ratio\n",
       "Train  0.993763  0.994748            0.994748\n",
       "Test   0.774495  0.772526            0.772526"
      ]
     },
     "metadata": {},
     "output_type": "display_data"
    }
   ],
   "source": [
    "accuracy_gini_test = calc_accuracy(tree_gini, X_test)\n",
    "accuracy_entropy_test = calc_accuracy(tree_entropy, X_test)\n",
    "accuracy_entropy_gain_ratio_test = calc_accuracy(tree_entropy_gain_ratio, X_test)\n",
    "\n",
    "accuracy_gini_train = calc_accuracy(tree_gini, X_train)\n",
    "accuracy_entropy_train = calc_accuracy(tree_entropy, X_train)\n",
    "accuracy_entropy_gain_ratio_train = calc_accuracy(tree_entropy_gain_ratio, X_train)\n",
    "\n",
    "data = {\n",
    "    'Gini': [accuracy_gini_train, accuracy_gini_test],\n",
    "    'Entropy': [accuracy_entropy_train, accuracy_entropy_test],\n",
    "    'Entropy Gain Ratio': [accuracy_entropy_gain_ratio_train, accuracy_entropy_gain_ratio_test]\n",
    "}\n",
    "\n",
    "df = pd.DataFrame(data, index=['Train', 'Test'])\n",
    "display(df)"
   ]
  },
  {
   "cell_type": "markdown",
   "metadata": {},
   "source": [
    "## Depth pruning\n",
    "\n",
    "(15 points)\n",
    "\n",
    "Consider the following max_depth values: [1, 2, 3, 4, 5, 6, 7, 8]. For each value, construct a tree and prune it according to the max_depth value = don't let the tree to grow beyond this depth. Next, calculate the training and testing accuracy.<br>\n",
    "On a single plot, draw the training and testing accuracy as a function of the max_depth. Mark the best result on the graph with red circle."
   ]
  },
  {
   "cell_type": "code",
   "execution_count": 18,
   "metadata": {},
   "outputs": [
    {
     "data": {
      "image/png": "[encoded data removed]",
      "text/plain": [
       "<Figure size 720x432 with 1 Axes>"
      ]
     },
     "metadata": {
      "needs_background": "light"
     },
     "output_type": "display_data"
    }
   ],
   "source": [
    "max_depths = [1, 2, 3, 4, 5, 6, 7, 8]\n",
    "train_accuracies = []\n",
    "test_accuracies = []\n",
    "\n",
    "for depth in max_depths:\n",
    "    tree = build_tree(X_train,calc_entropy,max_depth=depth)\n",
    "    train_accuracies.append(calc_accuracy(tree,X_train))\n",
    "    test_accuracies.append(calc_accuracy(tree,X_test))\n",
    "\n",
    "\n",
    "plt.figure(figsize=(10, 6))\n",
    "plt.plot(max_depths, train_accuracies, marker='o', label='Training accuracy')\n",
    "plt.plot(max_depths, test_accuracies, marker='o', label='Testing accuracy')\n",
    "\n",
    "# Get the best accuracy and its corresponding max_depth\n",
    "best_accuracy_index = np.argmax(test_accuracies)\n",
    "best_accuracy = test_accuracies[best_accuracy_index]\n",
    "best_depth = max_depths[best_accuracy_index]\n",
    "\n",
    "# Highlight the best result\n",
    "plt.plot(best_depth, best_accuracy, marker='o', markersize=10, label='Best Test Accuracy', color='red', linestyle=\"None\")\n",
    "\n",
    "plt.xlabel('max_depth')\n",
    "plt.ylabel('Accuracy')\n",
    "plt.legend()\n",
    "plt.title('Accuracy as function of max_depth')\n",
    "plt.show()"
   ]
  },
  {
   "cell_type": "markdown",
   "metadata": {},
   "source": [
    "## Min Samples Split\n",
    "\n",
    "(15 points)\n",
    "\n",
    "Consider the following min_samples_split values: [1, 5, 10, 20, 50]. For each value, construct a tree and prune it according to the min_samples_split value = don't split a node if the number of sample in it is less or equal to the min_samples_split value. Next, calculate the training and testing accuracy.<br>\n",
    "On a single plot, draw the training and testing accuracy as a function of the min_samples_split. Mark the best result on the graph with red circle. (make sure that the x-axis ticks represent the values of min_samples_split)"
   ]
  },
  {
   "cell_type": "code",
   "execution_count": 19,
   "metadata": {},
   "outputs": [
    {
     "data": {
      "image/png": "[encoded data removed]",
      "text/plain": [
       "<Figure size 720x432 with 1 Axes>"
      ]
     },
     "metadata": {
      "needs_background": "light"
     },
     "output_type": "display_data"
    }
   ],
   "source": [
    "min_splits = [1, 5, 10, 20, 50]\n",
    "train_accuracies = []\n",
    "test_accuracies = []\n",
    "\n",
    "for min_split in min_splits:\n",
    "    tree = build_tree(X_train, calc_entropy, min_samples_split= min_split)\n",
    "    train_accuracies.append(calc_accuracy(tree,X_train))\n",
    "    test_accuracies.append(calc_accuracy(tree,X_test))\n",
    "\n",
    "\n",
    "plt.figure(figsize=(10, 6))\n",
    "plt.plot(min_splits, train_accuracies, marker='o', label='Training accuracy')\n",
    "plt.plot(min_splits, test_accuracies, marker='o', label='Testing accuracy')\n",
    "\n",
    "# Get the best accuracy and its corresponding max_depth\n",
    "best_accuracy_index = np.argmax(test_accuracies)\n",
    "best_accuracy = test_accuracies[best_accuracy_index]\n",
    "best_min_split = min_splits[best_accuracy_index]\n",
    "\n",
    "# Highlight the best result\n",
    "plt.plot(best_min_split, best_accuracy, marker='o', markersize=10, label='Best Test Accuracy', color='red', linestyle=\"None\")\n",
    "\n",
    "plt.xlabel('Min Samples Split')\n",
    "plt.ylabel('Accuracy')\n",
    "plt.legend()\n",
    "plt.title('Accuracy as function of Min Samples Split')\n",
    "plt.show()"
   ]
  },
  {
   "cell_type": "markdown",
   "metadata": {},
   "source": [
    "Build the best 2 trees:\n",
    "1. tree_max_depth - the best tree according to max_depth pruning\n",
    "1. tree_min_samples_split - the best tree according to min_samples_split pruning"
   ]
  },
  {
   "cell_type": "code",
   "execution_count": 20,
   "metadata": {},
   "outputs": [],
   "source": [
    "tree_max_depth = build_tree(X_train, calc_entropy, max_depth= 3)\n",
    "tree_min_samples_split = build_tree(X_train, calc_entropy, min_samples_split= 50)"
   ]
  },
  {
   "cell_type": "markdown",
   "metadata": {},
   "source": [
    "## Number of Nodes\n",
    "\n",
    "(5 points)\n",
    "\n",
    "Complete the function counts_nodes and print the number of nodes in each tree and print the number of nodes of the two trees above"
   ]
  },
  {
   "cell_type": "code",
   "execution_count": 21,
   "metadata": {},
   "outputs": [],
   "source": [
    "def count_nodes(node):\n",
    "    \"\"\"\n",
    "    Count the number of node in a given tree\n",
    " \n",
    "    Input:\n",
    "    - node: a node in the decision tree.\n",
    " \n",
    "    Output: the number of node in the tree.\n",
    "    \"\"\"\n",
    "    if len(node.children) == 0:\n",
    "        return 1 \n",
    "    \n",
    "    counter = 0\n",
    "    for c in node.children:\n",
    "        counter+= count_nodes(c)\n",
    "    \n",
    "    # counter of childern + root\n",
    "    return counter + 1\n",
    "    "
   ]
  },
  {
   "cell_type": "code",
   "execution_count": 22,
   "metadata": {},
   "outputs": [
    {
     "name": "stdout",
     "output_type": "stream",
     "text": [
      "tree_max_depth --- 146\n",
      "tree_min_samples_split--- 328\n"
     ]
    }
   ],
   "source": [
    "print(\"tree_max_depth ---\",count_nodes(tree_max_depth))\n",
    "print('tree_min_samples_split---',count_nodes(tree_min_samples_split))"
   ]
  },
  {
   "cell_type": "markdown",
   "metadata": {},
   "source": [
    "## Print the tree\n",
    "\n",
    "Complete the function `print_tree`. Your tree should be visualized clearly. You can use the following example as a reference:\n",
    "```\n",
    "[ROOT, feature=X0],\n",
    "  [X0=a, feature=X2]\n",
    "    [X2=c, leaf]: [{1.0: 10}]\n",
    "    [X2=d, leaf]: [{0.0: 10}]\n",
    "  [X0=y, feature=X5], \n",
    "    [X5=a, leaf]: [{1.0: 5}]\n",
    "    [X5=s, leaf]: [{0.0: 10}]\n",
    "  [X0=e, leaf]: [{0.0: 25, 1.0: 50}]\n",
    "```\n",
    "In each brackets:\n",
    "* The first argument is the parent feature with the value that led to current node\n",
    "* The second argument is the selected feature of the current node\n",
    "* If the current node is a leaf, you need to print also the labels and their counts\n",
    "\n",
    "(5 points)"
   ]
  },
  {
   "cell_type": "code",
   "execution_count": 23,
   "metadata": {},
   "outputs": [],
   "source": [
    "# you can change the function signeture\n",
    "def print_tree(node, depth=0, parent_feature='ROOT', feature_val='ROOT'):\n",
    "    '''\n",
    "    prints the tree according to the example above\n",
    "\n",
    "    Input:\n",
    "    - node: a node in the decision tree\n",
    "\n",
    "    This function has no return value\n",
    "    '''\n",
    "    if depth == 0:\n",
    "        print('[{}, feature=X{}]'.format(feature_val,node.feature))\n",
    "        \n",
    "    for c in node.children:\n",
    "        if c.state=='Leaf':\n",
    "            print((depth+1)* ' ',\n",
    "                  '[X{feature_led_to}={val}, leaf]: [{counter}]'.format(feature_led_to= c.feature_led_to_split,\n",
    "                                                                        val = c.value,\n",
    "                                                                        counter = c.counter))\n",
    "        else:\n",
    "            print((depth+1)* ' ',\n",
    "                  '[X{feature_led_to}={val}, feature=X{feature}]'.format(feature_led_to= c.feature_led_to_split,\n",
    "                                                                         val = c.value,\n",
    "                                                                         feature = c.feature))\n",
    "\n",
    "        print_tree(c,depth+1)\n",
    "        "
   ]
  },
  {
   "cell_type": "markdown",
   "metadata": {},
   "source": [
    "print the tree with the best test accuracy and with less than 50 nodes (from the two pruning methods)"
   ]
  },
  {
   "cell_type": "code",
   "execution_count": 24,
   "metadata": {
    "scrolled": false
   },
   "outputs": [
    {
     "data": {
      "image/png": "[encoded data removed]",
      "text/plain": [
       "<Figure size 720x288 with 2 Axes>"
      ]
     },
     "metadata": {
      "needs_background": "light"
     },
     "output_type": "display_data"
    }
   ],
   "source": [
    "# first find what trees have less than 50 nodes\n",
    "\n",
    "import matplotlib.pyplot as plt\n",
    "\n",
    "# List of depths and min_splits to test\n",
    "depths = [1, 2, 3]\n",
    "min_splits = [100, 300, 500, 1000,2000]\n",
    "\n",
    "# Lists to hold the number of nodes for each parameter\n",
    "num_nodes_depth = []\n",
    "num_nodes_min_splits = []\n",
    "\n",
    "# For each depth and min_split, build a tree and count the number of nodes\n",
    "for depth in depths:\n",
    "    tree = build_tree(X_train, impurity=calc_gini, max_depth=depth)\n",
    "    nodes = count_nodes(tree)\n",
    "    num_nodes_depth.append(nodes)\n",
    "\n",
    "for min_split in min_splits:\n",
    "    tree = build_tree(X_train, impurity=calc_gini, min_samples_split=min_split)\n",
    "    nodes = count_nodes(tree)\n",
    "    num_nodes_min_splits.append(nodes)\n",
    "\n",
    "# Now, plot the number of nodes as a function of the tree depth and min_samples_split\n",
    "fig, axs = plt.subplots(1, 2, figsize=(10, 4))\n",
    "\n",
    "# Plot for max_depth\n",
    "axs[0].plot(depths, num_nodes_depth, marker='o', linestyle='-')\n",
    "axs[0].set_xlabel('Tree depth')\n",
    "axs[0].set_ylabel('Number of nodes')\n",
    "axs[0].set_title('Number of nodes as function of tree depth')\n",
    "axs[0].grid(True)\n",
    "\n",
    "# Plot for min_samples_split\n",
    "axs[1].plot(min_splits, num_nodes_min_splits, marker='o', linestyle='-')\n",
    "axs[1].set_xlabel('Min samples split')\n",
    "axs[1].set_ylabel('Number of nodes')\n",
    "axs[1].set_title('Number of nodes as function of min samples split')\n",
    "axs[1].grid(True)\n",
    "\n",
    "plt.tight_layout()\n",
    "plt.show()\n",
    "\n",
    "\n",
    "\n"
   ]
  },
  {
   "cell_type": "code",
   "execution_count": 25,
   "metadata": {},
   "outputs": [],
   "source": [
    "# List of depths and min_splits to test\n",
    "depths = [1, 2]\n",
    "min_splits = [500, 1000, 2000]\n",
    "\n",
    "\n",
    "best_accuracy = 0\n",
    "\n",
    "# For each depth, build a tree and calculate accuracy\n",
    "for depth in depths:\n",
    "    tree = build_tree(X_train, impurity=calc_gini, max_depth=depth)\n",
    "    accuracy = calc_accuracy(tree, X_test)\n",
    "    \n",
    "\n",
    "    if accuracy > best_accuracy:\n",
    "        best_accuracy = accuracy\n",
    "        best_parameters = {'depth': depth}\n",
    "        best_tree_less50 = tree\n",
    "\n",
    "\n",
    "for min_split in min_splits:\n",
    "    tree = build_tree(X_train, impurity=calc_gini, min_samples_split=min_split)\n",
    "    accuracy = calc_accuracy(tree, X_test)\n",
    "    \n",
    "    if accuracy > best_accuracy:\n",
    "        best_accuracy = accuracy\n",
    "        best_parameters = {'min_split': min_split}\n",
    "        best_tree_less50 = tree\n"
   ]
  },
  {
   "cell_type": "code",
   "execution_count": 26,
   "metadata": {},
   "outputs": [
    {
     "data": {
      "text/plain": [
       "{'depth': 2}"
      ]
     },
     "execution_count": 26,
     "metadata": {},
     "output_type": "execute_result"
    }
   ],
   "source": [
    "best_parameters"
   ]
  },
  {
   "cell_type": "code",
   "execution_count": 27,
   "metadata": {},
   "outputs": [
    {
     "name": "stdout",
     "output_type": "stream",
     "text": [
      "[ROOT, feature=X4]\n",
      "  [X4=y, feature=X1]\n",
      "   [X1=y, leaf]: [{'e': 31, 'p': 188}]\n",
      "   [X1=s, leaf]: [{'e': 18, 'p': 194}]\n",
      "  [X4=n, feature=X18]\n",
      "   [X18=y, leaf]: [{'e': 35, 'p': 3}]\n",
      "   [X18=h, leaf]: [{'e': 35, 'p': 5}]\n",
      "   [X18=n, leaf]: [{'e': 916, 'p': 110}]\n",
      "   [X18=r, leaf]: [{'e': 6, 'p': 46}]\n",
      "   [X18=o, leaf]: [{'e': 28, 'p': 4}]\n",
      "   [X18=w, leaf]: [{'e': 403, 'p': 78}]\n",
      "   [X18=k, leaf]: [{'e': 875, 'p': 96}]\n",
      "   [X18=b, leaf]: [{'e': 34, 'p': 2}]\n",
      "  [X4=s, feature=X13]\n",
      "   [X13=p, leaf]: [{'e': 12, 'p': 190}]\n",
      "   [X13=w, leaf]: [{'e': 26, 'p': 190}]\n",
      "  [X4=f, feature=X10]\n",
      "   [X10=f, leaf]: [{'e': 14, 'p': 91}]\n",
      "   [X10=k, leaf]: [{'e': 134, 'p': 1037}]\n",
      "   [X10=s, leaf]: [{'e': 22, 'p': 310}]\n",
      "  [X4=c, feature=X6]\n",
      "   [X6=c, leaf]: [{'e': 7, 'p': 63}]\n",
      "   [X6=w, leaf]: [{'e': 3, 'p': 74}]\n",
      "  [X4=l, feature=X1]\n",
      "   [X1=y, leaf]: [{'e': 159, 'p': 10}]\n",
      "   [X1=s, leaf]: [{'e': 94, 'p': 16}]\n",
      "   [X1=f, leaf]: [{'e': 19, 'p': 1}]\n",
      "  [X4=p, feature=X0]\n",
      "   [X0=f, leaf]: [{'e': 7, 'p': 86}]\n",
      "   [X0=x, leaf]: [{'e': 1, 'p': 89}]\n",
      "  [X4=a, feature=X2]\n",
      "   [X2=y, leaf]: [{'e': 133, 'p': 19}]\n",
      "   [X2=w, leaf]: [{'e': 107, 'p': 7}]\n",
      "   [X2=n, leaf]: [{'e': 33, 'p': 5}]\n",
      "  [X4=m, feature=X0]\n",
      "   [X0=f, leaf]: [{'e': 1, 'p': 8}]\n",
      "   [X0=k, leaf]: [{'e': 1, 'p': 10}]\n",
      "   [X0=x, leaf]: [{'p': 7}]\n"
     ]
    }
   ],
   "source": [
    "print_tree(best_tree_less50)"
   ]
  }
 ],
 "metadata": {
  "celltoolbar": "Create Assignment",
  "kernelspec": {
   "display_name": "Python 3 (ipykernel)",
   "language": "python",
   "name": "python3"
  },
  "language_info": {
   "codemirror_mode": {
    "name": "ipython",
    "version": 3
   },
   "file_extension": ".py",
   "mimetype": "text/x-python",
   "name": "python",
   "nbconvert_exporter": "python",
   "pygments_lexer": "ipython3",
   "version": "3.9.12"
  }
 },
 "nbformat": 4,
 "nbformat_minor": 4
}
